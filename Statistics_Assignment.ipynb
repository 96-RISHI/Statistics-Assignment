{
  "cells": [
    {
      "cell_type": "markdown",
      "id": "ee927a47",
      "metadata": {
        "id": "ee927a47"
      },
      "source": [
        "# Statistics Assignment\n"
      ]
    },
    {
      "cell_type": "markdown",
      "id": "8a02c5a4",
      "metadata": {
        "id": "8a02c5a4"
      },
      "source": [
        "##  1. What is statistics, and why is it important?\n",
        "\n",
        "Statistics is the discipline that deals with the collection, organization, analysis, interpretation, and presentation of data. It helps in making informed decisions, identifying trends, and testing hypotheses across various domains including business, healthcare, politics, and engineering."
      ]
    },
    {
      "cell_type": "markdown",
      "id": "13816989",
      "metadata": {
        "id": "13816989"
      },
      "source": [
        "## 2. What are the two main types of statistics?\n",
        "\n",
        "1. **Descriptive Statistics**: Summarizes and describes the features of a dataset (e.g., mean, median, mode).\n",
        "2. **Inferential Statistics**: Makes predictions or generalizations about a population based on a sample (e.g., hypothesis testing)."
      ]
    },
    {
      "cell_type": "markdown",
      "id": "b3a1a279",
      "metadata": {
        "id": "b3a1a279"
      },
      "source": [
        "## 3. What are descriptive statistics?\n",
        "\n",
        "Descriptive statistics use numerical and graphical methods to summarize data in a meaningful way. Examples include mean, median, mode, range, variance, and standard deviation."
      ]
    },
    {
      "cell_type": "markdown",
      "id": "23653ceb",
      "metadata": {
        "id": "23653ceb"
      },
      "source": [
        "## 4. What is inferential statistics?\n",
        "\n",
        "Inferential statistics involves making predictions or inferences about a population based on a sample. It uses probability theory to estimate parameters, test hypotheses, and determine relationships."
      ]
    },
    {
      "cell_type": "markdown",
      "id": "39b12cb3",
      "metadata": {
        "id": "39b12cb3"
      },
      "source": [
        "## 5. What is sampling in statistics?\n",
        "\n",
        "Sampling is the process of selecting a subset of individuals from a population to estimate characteristics of the whole population."
      ]
    },
    {
      "cell_type": "markdown",
      "id": "a4978d49",
      "metadata": {
        "id": "a4978d49"
      },
      "source": [
        "## 6. What are the different types of sampling methods?\n",
        "\n",
        "- Simple Random Sampling\n",
        "- Stratified Sampling\n",
        "- Systematic Sampling\n",
        "- Cluster Sampling\n",
        "- Convenience Sampling"
      ]
    },
    {
      "cell_type": "markdown",
      "id": "6c370d3b",
      "metadata": {
        "id": "6c370d3b"
      },
      "source": [
        "## 7. What is the difference between random and non-random sampling?\n",
        "\n",
        "**Random Sampling**: Each member has an equal chance of selection (e.g., lottery).\n",
        "**Non-Random Sampling**: Selection based on criteria or convenience (e.g., voluntary responses)."
      ]
    },
    {
      "cell_type": "markdown",
      "id": "56aeaded",
      "metadata": {
        "id": "56aeaded"
      },
      "source": [
        "## 8. Define and give examples of qualitative and quantitative data.\n",
        "\n",
        "**Qualitative Data**: Non-numeric (e.g., colors, names, labels).\n",
        "**Quantitative Data**: Numeric values (e.g., age, height, income)."
      ]
    },
    {
      "cell_type": "markdown",
      "id": "d6e33808",
      "metadata": {
        "id": "d6e33808"
      },
      "source": [
        "## 9. What are the different types of data in statistics?\n",
        "\n",
        "- Nominal\n",
        "- Ordinal\n",
        "- Interval\n",
        "- Ratio"
      ]
    },
    {
      "cell_type": "markdown",
      "id": "bf18dcbb",
      "metadata": {
        "id": "bf18dcbb"
      },
      "source": [
        "## 10. Explain nominal, ordinal, interval, and ratio levels of measurement.\n",
        "\n",
        "- **Nominal**: Categories without order (e.g., gender, color)\n",
        "- **Ordinal**: Categories with a ranked order (e.g., education level)\n",
        "- **Interval**: Ordered data with equal spacing but no true zero (e.g., temperature in Celsius)\n",
        "- **Ratio**: Like interval but with a true zero (e.g., weight, height)"
      ]
    },
    {
      "cell_type": "markdown",
      "id": "fa8ac177",
      "metadata": {
        "id": "fa8ac177"
      },
      "source": [
        "## 11. What is the measure of central tendency?\n",
        "\n",
        "It is a single value that represents the center of a dataset. Common measures include mean, median, and mode."
      ]
    },
    {
      "cell_type": "markdown",
      "id": "55ff8347",
      "metadata": {
        "id": "55ff8347"
      },
      "source": [
        "## 12. Define mean, median, and mode.\n",
        "\n",
        "- **Mean**: Average of all values.\n",
        "- **Median**: Middle value when data is sorted.\n",
        "- **Mode**: Most frequently occurring value."
      ]
    },
    {
      "cell_type": "markdown",
      "id": "5798f6c0",
      "metadata": {
        "id": "5798f6c0"
      },
      "source": [
        "## 13. What is the significance of the measure of central tendency?\n",
        "\n",
        "It helps summarize a dataset with a single representative value and gives insight into data distribution."
      ]
    },
    {
      "cell_type": "markdown",
      "id": "c241488a",
      "metadata": {
        "id": "c241488a"
      },
      "source": [
        "## What is variance, and how is it calculated?\n",
        "\n",
        "Variance measures the spread of data points from the mean. It is calculated as the average of the squared differences from the mean."
      ]
    },
    {
      "cell_type": "markdown",
      "id": "8480cf9b",
      "metadata": {
        "id": "8480cf9b"
      },
      "source": [
        "### 14. What is standard deviation, and why is it important?\n",
        "\n",
        "Standard deviation is the square root of variance. It shows how much variation exists from the mean. A low value indicates data points are close to the mean."
      ]
    },
    {
      "cell_type": "markdown",
      "id": "ecfc6e05",
      "metadata": {
        "id": "ecfc6e05"
      },
      "source": [
        "## 15. Define and explain the term range in statistics.\n",
        "\n",
        "Range is the difference between the maximum and minimum values in a dataset. It gives a basic measure of spread."
      ]
    },
    {
      "cell_type": "markdown",
      "id": "077a4836",
      "metadata": {
        "id": "077a4836"
      },
      "source": [
        "## 16. What is the difference between variance and standard deviation?\n",
        "\n",
        "Variance is the average of squared differences from the mean, while standard deviation is its square root."
      ]
    },
    {
      "cell_type": "markdown",
      "id": "df3a793b",
      "metadata": {
        "id": "df3a793b"
      },
      "source": [
        "## 17. What is skewness in a dataset?\n",
        "\n",
        "Skewness measures the asymmetry of the distribution. It indicates whether data is skewed left (negative) or right (positive)."
      ]
    },
    {
      "cell_type": "markdown",
      "id": "5f4383df",
      "metadata": {
        "id": "5f4383df"
      },
      "source": [
        "## 18. What does it mean if a dataset is positively or negatively skewed?\n",
        "\n",
        "- **Positively Skewed**: Tail on the right, mean > median\n",
        "- **Negatively Skewed**: Tail on the left, mean < median"
      ]
    },
    {
      "cell_type": "markdown",
      "id": "d72f1323",
      "metadata": {
        "id": "d72f1323"
      },
      "source": [
        "## 19. Define and explain kurtosis.\n",
        "\n",
        "Kurtosis measures the 'tailedness' of a distribution. High kurtosis indicates heavy tails; low kurtosis indicates light tails."
      ]
    },
    {
      "cell_type": "markdown",
      "id": "d8f9add4",
      "metadata": {
        "id": "d8f9add4"
      },
      "source": [
        "## 20. What is the purpose of covariance?\n",
        "\n",
        "Covariance indicates the direction of the linear relationship between two variables (positive or negative)."
      ]
    },
    {
      "cell_type": "markdown",
      "id": "3279d1ec",
      "metadata": {
        "id": "3279d1ec"
      },
      "source": [
        "## 21. What does correlation measure in statistics?\n",
        "\n",
        "Correlation measures both the strength and direction of the linear relationship between two variables."
      ]
    },
    {
      "cell_type": "markdown",
      "id": "51c9ec01",
      "metadata": {
        "id": "51c9ec01"
      },
      "source": [
        "## 22. What is the difference between covariance and correlation?\n",
        "\n",
        "Covariance indicates direction but not scale; correlation standardizes covariance to show strength and direction (-1 to 1)."
      ]
    },
    {
      "cell_type": "markdown",
      "id": "5768935d",
      "metadata": {
        "id": "5768935d"
      },
      "source": [
        "## 23. What are some real-world applications of statistics?\n",
        "\n",
        "- Healthcare: analyzing patient data\n",
        "- Business: market trends and sales forecasting\n",
        "- Politics: polling\n",
        "- Sports: performance analysis\n",
        "- Education: grading and assessments"
      ]
    },
    {
      "cell_type": "markdown",
      "source": [
        "# PRACTICAL QUESTIONS"
      ],
      "metadata": {
        "id": "vv2LgVsmZ9W0"
      },
      "id": "vv2LgVsmZ9W0"
    },
    {
      "cell_type": "markdown",
      "id": "11e0d5a4",
      "metadata": {
        "id": "11e0d5a4"
      },
      "source": [
        "## How do you calculate the mean, median, and mode of a dataset?\n",
        "Answer:"
      ]
    },
    {
      "cell_type": "code",
      "source": [
        "import numpy as np\n",
        "from scipy import stats\n",
        "\n",
        "# Example dataset\n",
        "data = [4, 6, 2, 8, 6, 7, 6, 3, 5, 9]\n",
        "\n",
        "# Mean\n",
        "mean = np.mean(data)\n",
        "\n",
        "# Median\n",
        "median = np.median(data)\n",
        "\n",
        "# Mode\n",
        "mode = stats.mode(data, keepdims=True).mode[0]\n",
        "\n",
        "print(f\"Mean: {mean}\")\n",
        "print(f\"Median: {median}\")\n",
        "print(f\"Mode: {mode}\")\n"
      ],
      "metadata": {
        "colab": {
          "base_uri": "https://localhost:8080/"
        },
        "id": "aj6SZ3I4aQfr",
        "outputId": "4504b2b2-2d49-471d-94d4-9d231ffed5ac"
      },
      "id": "aj6SZ3I4aQfr",
      "execution_count": 1,
      "outputs": [
        {
          "output_type": "stream",
          "name": "stdout",
          "text": [
            "Mean: 5.6\n",
            "Median: 6.0\n",
            "Mode: 6\n"
          ]
        }
      ]
    },
    {
      "cell_type": "markdown",
      "id": "bd95c682",
      "metadata": {
        "id": "bd95c682"
      },
      "source": [
        "## Write a Python program to compute the variance and standard deviation of a dataset.\n",
        "\n",
        "```python\n",
        "import numpy as np\n",
        "\n",
        "data = [10, 20, 30, 40, 50]\n",
        "variance = np.var(data)\n",
        "std_dev = np.std(data)\n",
        "print(\"Variance:\", variance)\n",
        "print(\"Standard Deviation:\", std_dev)\n",
        "```"
      ]
    },
    {
      "cell_type": "code",
      "execution_count": 3,
      "id": "72c89aea",
      "metadata": {
        "colab": {
          "base_uri": "https://localhost:8080/"
        },
        "id": "72c89aea",
        "outputId": "478fef6d-1219-4981-98f7-545a45433a6e"
      },
      "outputs": [
        {
          "output_type": "stream",
          "name": "stdout",
          "text": [
            "Variance: 200.0\n",
            "Standard Deviation: 14.142135623730951\n"
          ]
        }
      ],
      "source": [
        "import numpy as np\n",
        "\n",
        "data = [10, 20, 30, 40, 50]\n",
        "variance = np.var(data)\n",
        "std_dev = np.std(data)\n",
        "print(\"Variance:\", variance)\n",
        "print(\"Standard Deviation:\", std_dev)\n"
      ]
    },
    {
      "cell_type": "markdown",
      "id": "5d3c5c10",
      "metadata": {
        "id": "5d3c5c10"
      },
      "source": [
        "## Create a dataset and classify it into nominal, ordinal, interval, and ratio types.\n",
        "Answer:"
      ]
    },
    {
      "cell_type": "code",
      "source": [
        "import pandas as pd\n",
        "\n",
        "# Creating the dataset\n",
        "data = {\n",
        "    \"Gender\": [\"Male\", \"Female\", \"Female\", \"Male\", \"Other\"],                     # Nominal\n",
        "    \"Education Level\": [\"High School\", \"Bachelor\", \"Master\", \"PhD\", \"Bachelor\"], # Ordinal\n",
        "    \"Temperature (°C)\": [36.6, 37.0, 36.8, 38.2, 36.5],                           # Interval\n",
        "    \"Salary ($)\": [30000, 45000, 50000, 70000, 60000]                            # Ratio\n",
        "}\n",
        "\n",
        "df = pd.DataFrame(data)\n",
        "print(df)\n"
      ],
      "metadata": {
        "colab": {
          "base_uri": "https://localhost:8080/"
        },
        "id": "GEkUk09OaqnS",
        "outputId": "7b463613-eb40-4e94-e971-6d718d856094"
      },
      "id": "GEkUk09OaqnS",
      "execution_count": 4,
      "outputs": [
        {
          "output_type": "stream",
          "name": "stdout",
          "text": [
            "   Gender Education Level  Temperature (°C)  Salary ($)\n",
            "0    Male     High School              36.6       30000\n",
            "1  Female        Bachelor              37.0       45000\n",
            "2  Female          Master              36.8       50000\n",
            "3    Male             PhD              38.2       70000\n",
            "4   Other        Bachelor              36.5       60000\n"
          ]
        }
      ]
    },
    {
      "cell_type": "markdown",
      "id": "08731a83",
      "metadata": {
        "id": "08731a83"
      },
      "source": [
        "## Implement sampling techniques like random sampling and stratified sampling."
      ]
    },
    {
      "cell_type": "code",
      "execution_count": 5,
      "id": "205a4114",
      "metadata": {
        "colab": {
          "base_uri": "https://localhost:8080/"
        },
        "id": "205a4114",
        "outputId": "1bcc00b7-b911-402f-f105-dbfd4bed8d90"
      },
      "outputs": [
        {
          "output_type": "stream",
          "name": "stdout",
          "text": [
            "Simple Random Sample:\n",
            "    ID  Gender  Score\n",
            "0    1    Male     88\n",
            "17  18  Female     69\n",
            "15  16  Female     84\n",
            "1    2  Female     76\n",
            "8    9    Male     63\n",
            "\n",
            "Stratified Sample (50% from each gender):\n",
            "    ID  Gender  Score\n",
            "6    7    Male     80\n",
            "11  12  Female     84\n",
            "17  18  Female     69\n",
            "2    3    Male     96\n",
            "10  11    Male     81\n",
            "0    1    Male     88\n",
            "1    2  Female     76\n",
            "16  17    Male     63\n",
            "3    4  Female     84\n",
            "15  16  Female     84\n"
          ]
        }
      ],
      "source": [
        "import pandas as pd\n",
        "import numpy as np\n",
        "from sklearn.model_selection import train_test_split\n",
        "\n",
        "# Sample population dataset\n",
        "data = {\n",
        "    \"ID\": range(1, 21),\n",
        "    \"Gender\": ['Male', 'Female'] * 10,\n",
        "    \"Score\": np.random.randint(50, 100, 20)\n",
        "}\n",
        "df = pd.DataFrame(data)\n",
        "\n",
        "# --- 1. Simple Random Sampling (select 5 random samples)\n",
        "simple_random_sample = df.sample(n=5, random_state=42)\n",
        "print(\"Simple Random Sample:\")\n",
        "print(simple_random_sample)\n",
        "\n",
        "# --- 2. Stratified Sampling (based on 'Gender' column)\n",
        "# Split 50% from each gender\n",
        "stratified_sample, _ = train_test_split(df, test_size=0.5, stratify=df['Gender'], random_state=42)\n",
        "print(\"\\nStratified Sample (50% from each gender):\")\n",
        "print(stratified_sample)\n"
      ]
    },
    {
      "cell_type": "markdown",
      "id": "252aebf1",
      "metadata": {
        "id": "252aebf1"
      },
      "source": [
        "## Write a Python function to calculate the range of a dataset.\n",
        "\n",
        "```python\n",
        "def calculate_range(data):\n",
        "    return max(data) - min(data)\n",
        "\n",
        "data = [4, 8, 15, 16, 23, 42]\n",
        "print(\"Range:\", calculate_range(data))\n",
        "```"
      ]
    },
    {
      "cell_type": "code",
      "execution_count": 6,
      "id": "474d0a5b",
      "metadata": {
        "colab": {
          "base_uri": "https://localhost:8080/"
        },
        "id": "474d0a5b",
        "outputId": "69ab8457-f9e0-4c9a-a283-2d273db905e1"
      },
      "outputs": [
        {
          "output_type": "stream",
          "name": "stdout",
          "text": [
            "Range: 38\n"
          ]
        }
      ],
      "source": [
        "\n",
        "def calculate_range(data):\n",
        "    return max(data) - min(data)\n",
        "\n",
        "data = [4, 8, 15, 16, 23, 42]\n",
        "print(\"Range:\", calculate_range(data))\n"
      ]
    },
    {
      "cell_type": "markdown",
      "id": "fa0c935a",
      "metadata": {
        "id": "fa0c935a"
      },
      "source": [
        "## Create a dataset and plot its histogram to visualize skewness.\n",
        "\n",
        "```python\n",
        "import numpy as np\n",
        "import matplotlib.pyplot as plt\n",
        "\n",
        "data = np.random.exponential(scale=2, size=1000)\n",
        "plt.hist(data, bins=30, edgecolor='black')\n",
        "plt.title(\"Histogram Showing Skewness\")\n",
        "plt.show()\n",
        "```"
      ]
    },
    {
      "cell_type": "code",
      "execution_count": 7,
      "id": "f1036ed2",
      "metadata": {
        "colab": {
          "base_uri": "https://localhost:8080/",
          "height": 452
        },
        "id": "f1036ed2",
        "outputId": "755267d8-292e-47bd-bc21-b725eaa8a697"
      },
      "outputs": [
        {
          "output_type": "display_data",
          "data": {
            "text/plain": [
              "<Figure size 640x480 with 1 Axes>"
            ],
            "image/png": "[encoded data removed]"
          },
          "metadata": {}
        }
      ],
      "source": [
        "\n",
        "import numpy as np\n",
        "import matplotlib.pyplot as plt\n",
        "\n",
        "data = np.random.exponential(scale=2, size=1000)\n",
        "plt.hist(data, bins=30, edgecolor='black')\n",
        "plt.title(\"Histogram Showing Skewness\")\n",
        "plt.show()\n"
      ]
    },
    {
      "cell_type": "markdown",
      "id": "414c7d34",
      "metadata": {
        "id": "414c7d34"
      },
      "source": [
        "## Calculate skewness and kurtosis of a dataset using Python libraries.\n",
        "\n",
        "```python\n",
        "from scipy.stats import skew, kurtosis\n",
        "\n",
        "data = np.random.normal(loc=0, scale=1, size=1000)\n",
        "print(\"Skewness:\", skew(data))\n",
        "print(\"Kurtosis:\", kurtosis(data))\n",
        "```"
      ]
    },
    {
      "cell_type": "code",
      "execution_count": 8,
      "id": "08273949",
      "metadata": {
        "colab": {
          "base_uri": "https://localhost:8080/"
        },
        "id": "08273949",
        "outputId": "bed43fe9-a524-4c40-cf29-5f226810be29"
      },
      "outputs": [
        {
          "output_type": "stream",
          "name": "stdout",
          "text": [
            "Skewness: -0.06693401597151512\n",
            "Kurtosis: 0.07775784218715298\n"
          ]
        }
      ],
      "source": [
        "\n",
        "from scipy.stats import skew, kurtosis\n",
        "\n",
        "data = np.random.normal(loc=0, scale=1, size=1000)\n",
        "print(\"Skewness:\", skew(data))\n",
        "print(\"Kurtosis:\", kurtosis(data))\n"
      ]
    },
    {
      "cell_type": "markdown",
      "id": "a3e066f9",
      "metadata": {
        "id": "a3e066f9"
      },
      "source": [
        "## Generate a dataset and demonstrate positive and negative skewness.\n",
        "Answer:"
      ]
    },
    {
      "cell_type": "code",
      "source": [
        "import numpy as np\n",
        "import matplotlib.pyplot as plt\n",
        "from scipy.stats import skew\n",
        "\n",
        "# Set seed for reproducibility\n",
        "np.random.seed(42)\n",
        "\n",
        "# Positive skewed data: Exponential distribution\n",
        "positive_skew_data = np.random.exponential(scale=2, size=1000)\n",
        "\n",
        "# Negative skewed data: Use negative of exponential data\n",
        "negative_skew_data = -np.random.exponential(scale=2, size=1000)\n",
        "\n",
        "# Calculate skewness\n",
        "pos_skew_value = skew(positive_skew_data)\n",
        "neg_skew_value = skew(negative_skew_data)\n",
        "\n",
        "# Plotting\n",
        "fig, axes = plt.subplots(1, 2, figsize=(12, 5))\n",
        "\n",
        "# Positive skew plot\n",
        "axes[0].hist(positive_skew_data, bins=30, color='skyblue', edgecolor='black')\n",
        "axes[0].set_title(f'Positive Skew (Skewness = {pos_skew_value:.2f})')\n",
        "\n",
        "# Negative skew plot\n",
        "axes[1].hist(negative_skew_data, bins=30, color='salmon', edgecolor='black')\n",
        "axes[1].set_title(f'Negative Skew (Skewness = {neg_skew_value:.2f})')\n",
        "\n",
        "plt.tight_layout()\n",
        "plt.show()\n"
      ],
      "metadata": {
        "colab": {
          "base_uri": "https://localhost:8080/",
          "height": 507
        },
        "id": "WB5o9NCJbUJc",
        "outputId": "1ef2354e-1b27-4829-84b3-fc6d09515112"
      },
      "id": "WB5o9NCJbUJc",
      "execution_count": 9,
      "outputs": [
        {
          "output_type": "display_data",
          "data": {
            "text/plain": [
              "<Figure size 1200x500 with 2 Axes>"
            ],
            "image/png": "[encoded data removed]"
          },
          "metadata": {}
        }
      ]
    },
    {
      "cell_type": "markdown",
      "id": "08ef0a5b",
      "metadata": {
        "id": "08ef0a5b"
      },
      "source": [
        "## Write a Python script to calculate covariance between two datasets.\n",
        "\n",
        "```python\n",
        "x = [2, 4, 6, 8]\n",
        "y = [1, 3, 5, 7]\n",
        "cov_matrix = np.cov(x, y)\n",
        "print(\"Covariance:\", cov_matrix[0, 1])\n",
        "```"
      ]
    },
    {
      "cell_type": "code",
      "execution_count": 10,
      "id": "1a6e20c7",
      "metadata": {
        "colab": {
          "base_uri": "https://localhost:8080/"
        },
        "id": "1a6e20c7",
        "outputId": "53cc9ce1-9b0f-466a-d2d6-688d26286e05"
      },
      "outputs": [
        {
          "output_type": "stream",
          "name": "stdout",
          "text": [
            "Covariance: 6.666666666666666\n"
          ]
        }
      ],
      "source": [
        "\n",
        "x = [2, 4, 6, 8]\n",
        "y = [1, 3, 5, 7]\n",
        "cov_matrix = np.cov(x, y)\n",
        "print(\"Covariance:\", cov_matrix[0, 1])\n"
      ]
    },
    {
      "cell_type": "markdown",
      "id": "2b35dcda",
      "metadata": {
        "id": "2b35dcda"
      },
      "source": [
        "## Write a Python script to calculate the correlation coefficient between two datasets.\n",
        "\n",
        "```python\n",
        "correlation_matrix = np.corrcoef(x, y)\n",
        "print(\"Correlation Coefficient:\", correlation_matrix[0, 1])\n",
        "```"
      ]
    },
    {
      "cell_type": "code",
      "execution_count": 11,
      "id": "43d7dfdd",
      "metadata": {
        "colab": {
          "base_uri": "https://localhost:8080/"
        },
        "id": "43d7dfdd",
        "outputId": "b97ca5d0-2fce-46a3-dbe6-e3e8270b7934"
      },
      "outputs": [
        {
          "output_type": "stream",
          "name": "stdout",
          "text": [
            "Correlation Coefficient: 1.0\n"
          ]
        }
      ],
      "source": [
        "\n",
        "correlation_matrix = np.corrcoef(x, y)\n",
        "print(\"Correlation Coefficient:\", correlation_matrix[0, 1])\n"
      ]
    },
    {
      "cell_type": "markdown",
      "id": "fa3c5af1",
      "metadata": {
        "id": "fa3c5af1"
      },
      "source": [
        "## Create a scatter plot to visualize the relationship between two variables.\n",
        "\n",
        "```python\n",
        "plt.scatter(x, y)\n",
        "plt.title(\"Scatter Plot\")\n",
        "plt.xlabel(\"X\")\n",
        "plt.ylabel(\"Y\")\n",
        "plt.show()\n",
        "```"
      ]
    },
    {
      "cell_type": "code",
      "execution_count": 12,
      "id": "a7664ebf",
      "metadata": {
        "colab": {
          "base_uri": "https://localhost:8080/",
          "height": 472
        },
        "id": "a7664ebf",
        "outputId": "6115e204-567f-4366-e310-32a727f4a9e4"
      },
      "outputs": [
        {
          "output_type": "display_data",
          "data": {
            "text/plain": [
              "<Figure size 640x480 with 1 Axes>"
            ],
            "image/png": "[encoded data removed]"
          },
          "metadata": {}
        }
      ],
      "source": [
        "\n",
        "plt.scatter(x, y)\n",
        "plt.title(\"Scatter Plot\")\n",
        "plt.xlabel(\"X\")\n",
        "plt.ylabel(\"Y\")\n",
        "plt.show()\n"
      ]
    },
    {
      "cell_type": "markdown",
      "id": "65d72074",
      "metadata": {
        "id": "65d72074"
      },
      "source": [
        "## Implement and compare simple random sampling and systematic sampling.\n",
        "\n",
        "```python\n",
        "import random\n",
        "\n",
        "data = list(range(1, 101))\n",
        "\n",
        "# Simple Random Sampling\n",
        "simple_sample = random.sample(data, 10)\n",
        "print(\"Simple Random Sample:\", simple_sample)\n",
        "\n",
        "# Systematic Sampling\n",
        "k = 10\n",
        "start = random.randint(0, k-1)\n",
        "systematic_sample = data[start::k][:10]\n",
        "print(\"Systematic Sample:\", systematic_sample)\n",
        "```"
      ]
    },
    {
      "cell_type": "code",
      "execution_count": 13,
      "id": "59ce3285",
      "metadata": {
        "colab": {
          "base_uri": "https://localhost:8080/"
        },
        "id": "59ce3285",
        "outputId": "c739ba6e-5eca-4a89-894b-13e7f1a3f280"
      },
      "outputs": [
        {
          "output_type": "stream",
          "name": "stdout",
          "text": [
            "Simple Random Sample: [65, 85, 77, 51, 15, 35, 97, 79, 88, 75]\n",
            "Systematic Sample: [2, 12, 22, 32, 42, 52, 62, 72, 82, 92]\n"
          ]
        }
      ],
      "source": [
        "\n",
        "import random\n",
        "\n",
        "data = list(range(1, 101))\n",
        "\n",
        "# Simple Random Sampling\n",
        "simple_sample = random.sample(data, 10)\n",
        "print(\"Simple Random Sample:\", simple_sample)\n",
        "\n",
        "# Systematic Sampling\n",
        "k = 10\n",
        "start = random.randint(0, k-1)\n",
        "systematic_sample = data[start::k][:10]\n",
        "print(\"Systematic Sample:\", systematic_sample)\n"
      ]
    },
    {
      "cell_type": "markdown",
      "id": "f06bbf0a",
      "metadata": {
        "id": "f06bbf0a"
      },
      "source": [
        " Calculate the mean, median, and mode of grouped data.\n"
      ]
    },
    {
      "cell_type": "code",
      "source": [
        "import pandas as pd\n",
        "\n",
        "data = pd.Series([10, 20, 20, 30, 30, 30, 40, 50])\n",
        "print(\"Mean:\", data.mean())\n",
        "print(\"Median:\", data.median())\n",
        "print(\"Mode:\", data.mode().values[0])"
      ],
      "metadata": {
        "colab": {
          "base_uri": "https://localhost:8080/"
        },
        "id": "Rn4FrW6gblKC",
        "outputId": "f3baee81-3a11-495d-c479-7124bf466995"
      },
      "id": "Rn4FrW6gblKC",
      "execution_count": 14,
      "outputs": [
        {
          "output_type": "stream",
          "name": "stdout",
          "text": [
            "Mean: 28.75\n",
            "Median: 30.0\n",
            "Mode: 30\n"
          ]
        }
      ]
    },
    {
      "cell_type": "markdown",
      "id": "f69dd2b8",
      "metadata": {
        "id": "f69dd2b8"
      },
      "source": [
        "## Simulate data using Python and calculate its central tendency and dispersion.\n",
        "\n",
        "```python\n",
        "data = np.random.normal(50, 10, 1000)\n",
        "print(\"Mean:\", np.mean(data))\n",
        "print(\"Median:\", np.median(data))\n",
        "print(\"Standard Deviation:\", np.std(data))\n",
        "```"
      ]
    },
    {
      "cell_type": "code",
      "execution_count": 15,
      "id": "07e4ae9f",
      "metadata": {
        "colab": {
          "base_uri": "https://localhost:8080/"
        },
        "id": "07e4ae9f",
        "outputId": "5285e656-cdf9-4fad-e0e4-0f8f7d1bebb1"
      },
      "outputs": [
        {
          "output_type": "stream",
          "name": "stdout",
          "text": [
            "Mean: 50.12927824665311\n",
            "Median: 50.00866717109411\n",
            "Standard Deviation: 9.776598358574972\n"
          ]
        }
      ],
      "source": [
        "\n",
        "data = np.random.normal(50, 10, 1000)\n",
        "print(\"Mean:\", np.mean(data))\n",
        "print(\"Median:\", np.median(data))\n",
        "print(\"Standard Deviation:\", np.std(data))\n"
      ]
    },
    {
      "cell_type": "markdown",
      "id": "1e1aa55f",
      "metadata": {
        "id": "1e1aa55f"
      },
      "source": [
        "## Use NumPy or pandas to summarize a dataset’s descriptive statistics.\n",
        "\n",
        "```python\n",
        "df = pd.DataFrame({'Scores': np.random.randint(50, 100, 100)})\n",
        "print(df.describe())\n",
        "```"
      ]
    },
    {
      "cell_type": "code",
      "execution_count": 16,
      "id": "d0666eb4",
      "metadata": {
        "colab": {
          "base_uri": "https://localhost:8080/"
        },
        "id": "d0666eb4",
        "outputId": "3162ce0c-c90d-41a7-d28f-7bd3394e2bc9"
      },
      "outputs": [
        {
          "output_type": "stream",
          "name": "stdout",
          "text": [
            "          Scores\n",
            "count  100.00000\n",
            "mean    73.81000\n",
            "std     15.72407\n",
            "min     50.00000\n",
            "25%     61.75000\n",
            "50%     74.00000\n",
            "75%     89.00000\n",
            "max     99.00000\n"
          ]
        }
      ],
      "source": [
        "\n",
        "df = pd.DataFrame({'Scores': np.random.randint(50, 100, 100)})\n",
        "print(df.describe())\n"
      ]
    },
    {
      "cell_type": "markdown",
      "id": "049866c6",
      "metadata": {
        "id": "049866c6"
      },
      "source": [
        "## Plot a boxplot to understand the spread and identify outliers.\n",
        "\n",
        "```python\n",
        "plt.boxplot(df['Scores'])\n",
        "plt.title(\"Boxplot of Scores\")\n",
        "plt.show()\n",
        "```"
      ]
    },
    {
      "cell_type": "code",
      "execution_count": 17,
      "id": "7be9362f",
      "metadata": {
        "colab": {
          "base_uri": "https://localhost:8080/",
          "height": 452
        },
        "id": "7be9362f",
        "outputId": "0f4584df-938d-4102-a9e2-01dd6459884f"
      },
      "outputs": [
        {
          "output_type": "display_data",
          "data": {
            "text/plain": [
              "<Figure size 640x480 with 1 Axes>"
            ],
            "image/png": "[encoded data removed]"
          },
          "metadata": {}
        }
      ],
      "source": [
        "\n",
        "plt.boxplot(df['Scores'])\n",
        "plt.title(\"Boxplot of Scores\")\n",
        "plt.show()\n"
      ]
    },
    {
      "cell_type": "markdown",
      "id": "9c772f41",
      "metadata": {
        "id": "9c772f41"
      },
      "source": [
        "Calculate the interquartile range (IQR) of a dataset.\n"
      ]
    },
    {
      "cell_type": "code",
      "source": [
        "Q1 = np.percentile(data, 25)\n",
        "Q3 = np.percentile(data, 75)\n",
        "IQR = Q3 - Q1\n",
        "print(\"Interquartile Range (IQR):\", IQR)"
      ],
      "metadata": {
        "colab": {
          "base_uri": "https://localhost:8080/"
        },
        "id": "HhIMeMO5btaY",
        "outputId": "bea1e976-5f33-4642-8c19-08b55b7f2376"
      },
      "id": "HhIMeMO5btaY",
      "execution_count": 18,
      "outputs": [
        {
          "output_type": "stream",
          "name": "stdout",
          "text": [
            "Interquartile Range (IQR): 13.192015186853958\n"
          ]
        }
      ]
    },
    {
      "cell_type": "markdown",
      "id": "47dde55a",
      "metadata": {
        "id": "47dde55a"
      },
      "source": [
        "## Implement Z-score normalization and explain its significance.\n",
        "\n",
        "```python\n",
        "z_scores = (data - np.mean(data)) / np.std(data)\n",
        "print(z_scores[:5])\n",
        "# Z-score normalization standardizes data to have mean 0 and std deviation 1.\n",
        "```"
      ]
    },
    {
      "cell_type": "code",
      "execution_count": 19,
      "id": "e92ac25d",
      "metadata": {
        "colab": {
          "base_uri": "https://localhost:8080/"
        },
        "id": "e92ac25d",
        "outputId": "d9fec6c2-e704-41bf-d8f0-585d41d35124"
      },
      "outputs": [
        {
          "output_type": "stream",
          "name": "stdout",
          "text": [
            "[-0.91126829 -0.85899834 -0.24487732  0.36253681  0.9212374 ]\n"
          ]
        }
      ],
      "source": [
        "\n",
        "z_scores = (data - np.mean(data)) / np.std(data)\n",
        "print(z_scores[:5])\n",
        "# Z-score normalization standardizes data to have mean 0 and std deviation 1.\n"
      ]
    },
    {
      "cell_type": "markdown",
      "id": "a3987316",
      "metadata": {
        "id": "a3987316"
      },
      "source": [
        "Compare two datasets using their standard deviations.\n",
        "\n"
      ]
    },
    {
      "cell_type": "code",
      "source": [
        "data1 = np.random.normal(50, 5, 1000)\n",
        "data2 = np.random.normal(50, 15, 1000)\n",
        "print(\"Std Dev of Data1:\", np.std(data1))\n",
        "print(\"Std Dev of Data2:\", np.std(data2))"
      ],
      "metadata": {
        "colab": {
          "base_uri": "https://localhost:8080/"
        },
        "id": "EVeF5R-Dbyge",
        "outputId": "82914062-7e80-4912-9e45-40e189afdc33"
      },
      "id": "EVeF5R-Dbyge",
      "execution_count": 20,
      "outputs": [
        {
          "output_type": "stream",
          "name": "stdout",
          "text": [
            "Std Dev of Data1: 4.985630245264221\n",
            "Std Dev of Data2: 14.389784236689728\n"
          ]
        }
      ]
    },
    {
      "cell_type": "markdown",
      "id": "66913cce",
      "metadata": {
        "id": "66913cce"
      },
      "source": [
        "## Write a Python program to visualize covariance using a heatmap.\n",
        "\n",
        "```python\n",
        "import seaborn as sns\n",
        "\n",
        "df = pd.DataFrame({\n",
        "    'X': np.random.normal(0, 1, 100),\n",
        "    'Y': np.random.normal(1, 2, 100)\n",
        "})\n",
        "sns.heatmap(df.cov(), annot=True)\n",
        "plt.title(\"Covariance Heatmap\")\n",
        "plt.show()\n",
        "```"
      ]
    },
    {
      "cell_type": "code",
      "execution_count": 21,
      "id": "bc50381d",
      "metadata": {
        "colab": {
          "base_uri": "https://localhost:8080/",
          "height": 452
        },
        "id": "bc50381d",
        "outputId": "cd43989a-691e-422a-bbf7-05445c5c35de"
      },
      "outputs": [
        {
          "output_type": "display_data",
          "data": {
            "text/plain": [
              "<Figure size 640x480 with 2 Axes>"
            ],
            "image/png": "[encoded data removed]"
          },
          "metadata": {}
        }
      ],
      "source": [
        "\n",
        "import seaborn as sns\n",
        "\n",
        "df = pd.DataFrame({\n",
        "    'X': np.random.normal(0, 1, 100),\n",
        "    'Y': np.random.normal(1, 2, 100)\n",
        "})\n",
        "sns.heatmap(df.cov(), annot=True)\n",
        "plt.title(\"Covariance Heatmap\")\n",
        "plt.show()\n"
      ]
    },
    {
      "cell_type": "markdown",
      "id": "94175ea3",
      "metadata": {
        "id": "94175ea3"
      },
      "source": [
        " Use seaborn to create a correlation matrix for a dataset.\n",
        "\n"
      ]
    },
    {
      "cell_type": "code",
      "source": [
        "sns.heatmap(df.corr(), annot=True, cmap='coolwarm')\n",
        "plt.title(\"Correlation Matrix\")\n",
        "plt.show()"
      ],
      "metadata": {
        "colab": {
          "base_uri": "https://localhost:8080/",
          "height": 452
        },
        "id": "kzfutnvNb4wn",
        "outputId": "53696bf8-8544-470f-b965-bb8886cd574a"
      },
      "id": "kzfutnvNb4wn",
      "execution_count": 22,
      "outputs": [
        {
          "output_type": "display_data",
          "data": {
            "text/plain": [
              "<Figure size 640x480 with 2 Axes>"
            ],
            "image/png": "[encoded data removed]"
          },
          "metadata": {}
        }
      ]
    },
    {
      "cell_type": "markdown",
      "id": "e712ca33",
      "metadata": {
        "id": "e712ca33"
      },
      "source": [
        "## Generate a dataset and implement both variance and standard deviation computations."
      ]
    },
    {
      "cell_type": "code",
      "execution_count": 23,
      "id": "b57da303",
      "metadata": {
        "colab": {
          "base_uri": "https://localhost:8080/"
        },
        "id": "b57da303",
        "outputId": "1b84cb0c-463b-4b22-c3c3-d76793f49fed"
      },
      "outputs": [
        {
          "output_type": "stream",
          "name": "stdout",
          "text": [
            "Dataset: [87 93 62 58 59 61 55 65 50 66 51 62 57 95 56 75 70 87 68 70]\n",
            "\n",
            "Manual Variance: 174.32750000000001\n",
            "Manual Standard Deviation: 13.203313977937508\n",
            "\n",
            "NumPy Variance: 174.32750000000001\n",
            "NumPy Standard Deviation: 13.203313977937508\n"
          ]
        }
      ],
      "source": [
        "import numpy as np\n",
        "\n",
        "# Step 1: Generate a dataset\n",
        "np.random.seed(1)\n",
        "data = np.random.randint(50, 100, size=20)\n",
        "print(\"Dataset:\", data)\n",
        "\n",
        "# Step 2: Manual computation\n",
        "mean_val = np.mean(data)\n",
        "manual_variance = sum((x - mean_val) ** 2 for x in data) / len(data)\n",
        "manual_std_dev = manual_variance ** 0.5\n",
        "\n",
        "print(\"\\nManual Variance:\", manual_variance)\n",
        "print(\"Manual Standard Deviation:\", manual_std_dev)\n",
        "\n",
        "# Step 3: Using NumPy built-in functions\n",
        "np_variance = np.var(data)\n",
        "np_std_dev = np.std(data)\n",
        "\n",
        "print(\"\\nNumPy Variance:\", np_variance)\n",
        "print(\"NumPy Standard Deviation:\", np_std_dev)\n"
      ]
    },
    {
      "cell_type": "markdown",
      "id": "bb8cbd8c",
      "metadata": {
        "id": "bb8cbd8c"
      },
      "source": [
        "## Visualize skewness and kurtosis using Python libraries like matplotlib or seaborn.\n",
        "\n",
        "```python\n",
        "sns.histplot(data, kde=True)\n",
        "plt.title(\"Histogram with Skewness and Kurtosis\")\n",
        "plt.show()\n",
        "```"
      ]
    },
    {
      "cell_type": "code",
      "execution_count": 24,
      "id": "9062f7c4",
      "metadata": {
        "colab": {
          "base_uri": "https://localhost:8080/",
          "height": 452
        },
        "id": "9062f7c4",
        "outputId": "7f0fe490-03f5-414e-a7b0-aaaf3dbc51f9"
      },
      "outputs": [
        {
          "output_type": "display_data",
          "data": {
            "text/plain": [
              "<Figure size 640x480 with 1 Axes>"
            ],
            "image/png": "[encoded data removed]"
          },
          "metadata": {}
        }
      ],
      "source": [
        "\n",
        "sns.histplot(data, kde=True)\n",
        "plt.title(\"Histogram with Skewness and Kurtosis\")\n",
        "plt.show()\n"
      ]
    },
    {
      "cell_type": "markdown",
      "id": "b47809fc",
      "metadata": {
        "id": "b47809fc"
      },
      "source": [
        "## Implement the Pearson and Spearman correlation coefficients for a dataset.\n",
        "\n",
        "```python\n",
        "from scipy.stats import pearsonr, spearmanr\n",
        "\n",
        "print(\"Pearson:\", pearsonr(x, y))\n",
        "print(\"Spearman:\", spearmanr(x, y))\n",
        "```"
      ]
    },
    {
      "cell_type": "code",
      "execution_count": 25,
      "id": "d997c5da",
      "metadata": {
        "colab": {
          "base_uri": "https://localhost:8080/"
        },
        "id": "d997c5da",
        "outputId": "c3f766d4-5bd0-4d78-dcf1-79f8fe64a8d7"
      },
      "outputs": [
        {
          "output_type": "stream",
          "name": "stdout",
          "text": [
            "Pearson: PearsonRResult(statistic=np.float64(0.9999999999999999), pvalue=np.float64(0.0))\n",
            "Spearman: SignificanceResult(statistic=np.float64(1.0), pvalue=np.float64(0.0))\n"
          ]
        }
      ],
      "source": [
        "\n",
        "from scipy.stats import pearsonr, spearmanr\n",
        "\n",
        "print(\"Pearson:\", pearsonr(x, y))\n",
        "print(\"Spearman:\", spearmanr(x, y))\n"
      ]
    }
  ],
  "metadata": {
    "colab": {
      "provenance": []
    },
    "language_info": {
      "name": "python"
    },
    "kernelspec": {
      "name": "python3",
      "display_name": "Python 3"
    }
  },
  "nbformat": 4,
  "nbformat_minor": 5
}